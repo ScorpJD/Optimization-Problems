{
 "cells": [
  {
   "cell_type": "markdown",
   "metadata": {},
   "source": [
    "# Travelling salesman problem\n",
    "\n",
    "_The travelling salesman problem_ (TSP) asks the following question: \"Given a list of cities and the distances between each pair of cities, what is the shortest possible route that visits each city exactly once and returns to the origin city?\"\n",
    "\n",
    "This problem has its orgins in graph theory and is a very important problem in Combinatorial Optimization and Integer Programming.\n",
    "\n",
    "To begin with our implementation, lets start with an example.\n",
    "\n",
    "Consider the following set of cities: [A,B,C,D,E] with the distance between each city given by the weights on the graph bellow\n",
    "\n",
    "<img src=\"example.jpg\">"
   ]
  },
  {
   "cell_type": "code",
   "execution_count": 9,
   "metadata": {
    "collapsed": true
   },
   "outputs": [],
   "source": [
    "%matplotlib inline \n",
    "# this first line only to keep plot in line with this notebook\n",
    "\n",
    "import matplotlib.pyplot as plt\n",
    "plt.style.use(\"ggplot\") # plot style - more beautiful charts\n",
    "import numpy as np\n",
    "import pandas as pd\n",
    "import pulp as plp"
   ]
  },
  {
   "cell_type": "code",
   "execution_count": 25,
   "metadata": {
    "collapsed": true
   },
   "outputs": [],
   "source": [
    "# Matrix of distances\n",
    "dist = np.array([[0,     2,     999999,12, 5     ],\n",
    "                 [2,     0,     4,     8,  999999],\n",
    "                 [999999,4,     0,     3,  3     ],\n",
    "                 [12,    8,     3,     0,  10    ],\n",
    "                 [5,     999999,3,     10, 0     ]])"
   ]
  },
  {
   "cell_type": "code",
   "execution_count": 26,
   "metadata": {
    "collapsed": false
   },
   "outputs": [
    {
     "data": {
      "text/plain": [
       "8"
      ]
     },
     "execution_count": 26,
     "metadata": {},
     "output_type": "execute_result"
    }
   ],
   "source": [
    "# Distance from city B to D\n",
    "dist[1][3]"
   ]
  },
  {
   "cell_type": "code",
   "execution_count": 27,
   "metadata": {
    "collapsed": false
   },
   "outputs": [],
   "source": [
    "cities = list(range(5))"
   ]
  },
  {
   "cell_type": "code",
   "execution_count": 51,
   "metadata": {
    "collapsed": false
   },
   "outputs": [
    {
     "name": "stdout",
     "output_type": "stream",
     "text": [
      "Optimize a model with 10 rows, 20 columns and 40 nonzeros\n",
      "Coefficient statistics:\n",
      "  Matrix range    [1e+00, 1e+00]\n",
      "  Objective range [2e+00, 1e+06]\n",
      "  Bounds range    [1e+00, 1e+00]\n",
      "  RHS range       [1e+00, 1e+00]\n",
      "Found heuristic solution: objective 1.00002e+06\n",
      "Presolve time: 0.00s\n",
      "Presolved: 10 rows, 20 columns, 40 nonzeros\n",
      "Variable types: 0 continuous, 20 integer (20 binary)\n",
      "\n",
      "Root relaxation: objective 2.000000e+01, 9 iterations, 0.00 seconds\n",
      "\n",
      "    Nodes    |    Current Node    |     Objective Bounds      |     Work\n",
      " Expl Unexpl |  Obj  Depth IntInf | Incumbent    BestBd   Gap | It/Node Time\n",
      "\n",
      "*    0     0               0      20.0000000   20.00000  0.00%     -    0s\n",
      "\n",
      "Explored 0 nodes (9 simplex iterations) in 0.01 seconds\n",
      "Thread count was 8 (of 8 available processors)\n",
      "\n",
      "Optimal solution found (tolerance 1.00e-04)\n",
      "Best objective 2.000000000000e+01, best bound 2.000000000000e+01, gap 0.0%\n",
      "Gurobi status= 2\n"
     ]
    },
    {
     "data": {
      "text/plain": [
       "1"
      ]
     },
     "execution_count": 51,
     "metadata": {},
     "output_type": "execute_result"
    }
   ],
   "source": [
    "# Create pulp problem\n",
    "prob = plp.LpProblem(\"TSP\", plp.LpMinimize)\n",
    "\n",
    "# Decision variable X_i_j = 1 if we go from city i to j\n",
    "X = plp.LpVariable.dicts(\"X\", (cities,cities), 0, 1, plp.LpBinary)\n",
    "\n",
    "\n",
    "# Objective function\n",
    "prob += plp.lpSum([dist[i][j]*X[i][j] for i in cities for j in cities if i !=j])\n",
    "\n",
    "\n",
    "# constraints\n",
    "for i in cities:\n",
    "    prob += plp.lpSum([X[i][j] for j in cities if i !=j]) == 1\n",
    "    \n",
    "for j in cities:\n",
    "    prob += plp.lpSum([X[i][j] for i in cities if i !=j]) == 1\n",
    "    \n",
    "    \n",
    "prob.solve(plp.GUROBI(msg=1))"
   ]
  },
  {
   "cell_type": "code",
   "execution_count": 62,
   "metadata": {
    "collapsed": false
   },
   "outputs": [
    {
     "name": "stdout",
     "output_type": "stream",
     "text": [
      "X_0_1 1.0\n",
      "X_1_0 1.0\n",
      "X_2_3 1.0\n",
      "X_3_4 1.0\n",
      "X_4_2 1.0\n",
      "Objective:  20.0\n"
     ]
    }
   ],
   "source": [
    "for v in prob.variables():\n",
    "    if v.value()!= 0:\n",
    "        print(v.name, v.value())\n",
    "        \n",
    "print(\"Objective: \", prob.objective.value())"
   ]
  },
  {
   "cell_type": "code",
   "execution_count": 57,
   "metadata": {
    "collapsed": false
   },
   "outputs": [
    {
     "name": "stdout",
     "output_type": "stream",
     "text": [
      "TSP:\n",
      "MINIMIZE\n",
      "2*X_0_1 + 999999*X_0_2 + 12*X_0_3 + 5*X_0_4 + 2*X_1_0 + 4*X_1_2 + 8*X_1_3 + 999999*X_1_4 + 999999*X_2_0 + 4*X_2_1 + 3*X_2_3 + 3*X_2_4 + 12*X_3_0 + 8*X_3_1 + 3*X_3_2 + 10*X_3_4 + 5*X_4_0 + 999999*X_4_1 + 3*X_4_2 + 10*X_4_3 + 0\n",
      "SUBJECT TO\n",
      "_C1: X_0_1 + X_0_2 + X_0_3 + X_0_4 = 1\n",
      "\n",
      "_C2: X_1_0 + X_1_2 + X_1_3 + X_1_4 = 1\n",
      "\n",
      "_C3: X_2_0 + X_2_1 + X_2_3 + X_2_4 = 1\n",
      "\n",
      "_C4: X_3_0 + X_3_1 + X_3_2 + X_3_4 = 1\n",
      "\n",
      "_C5: X_4_0 + X_4_1 + X_4_2 + X_4_3 = 1\n",
      "\n",
      "_C6: X_1_0 + X_2_0 + X_3_0 + X_4_0 = 1\n",
      "\n",
      "_C7: X_0_1 + X_2_1 + X_3_1 + X_4_1 = 1\n",
      "\n",
      "_C8: X_0_2 + X_1_2 + X_3_2 + X_4_2 = 1\n",
      "\n",
      "_C9: X_0_3 + X_1_3 + X_2_3 + X_4_3 = 1\n",
      "\n",
      "_C10: X_0_4 + X_1_4 + X_2_4 + X_3_4 = 1\n",
      "\n",
      "VARIABLES\n",
      "0 <= X_0_1 <= 1 Integer\n",
      "0 <= X_0_2 <= 1 Integer\n",
      "0 <= X_0_3 <= 1 Integer\n",
      "0 <= X_0_4 <= 1 Integer\n",
      "0 <= X_1_0 <= 1 Integer\n",
      "0 <= X_1_2 <= 1 Integer\n",
      "0 <= X_1_3 <= 1 Integer\n",
      "0 <= X_1_4 <= 1 Integer\n",
      "0 <= X_2_0 <= 1 Integer\n",
      "0 <= X_2_1 <= 1 Integer\n",
      "0 <= X_2_3 <= 1 Integer\n",
      "0 <= X_2_4 <= 1 Integer\n",
      "0 <= X_3_0 <= 1 Integer\n",
      "0 <= X_3_1 <= 1 Integer\n",
      "0 <= X_3_2 <= 1 Integer\n",
      "0 <= X_3_4 <= 1 Integer\n",
      "0 <= X_4_0 <= 1 Integer\n",
      "0 <= X_4_1 <= 1 Integer\n",
      "0 <= X_4_2 <= 1 Integer\n",
      "0 <= X_4_3 <= 1 Integer\n",
      "\n"
     ]
    }
   ],
   "source": [
    "print(prob)"
   ]
  },
  {
   "cell_type": "code",
   "execution_count": null,
   "metadata": {
    "collapsed": true
   },
   "outputs": [],
   "source": []
  }
 ],
 "metadata": {
  "kernelspec": {
   "display_name": "Python 3",
   "language": "python",
   "name": "python3"
  },
  "language_info": {
   "codemirror_mode": {
    "name": "ipython",
    "version": 3
   },
   "file_extension": ".py",
   "mimetype": "text/x-python",
   "name": "python",
   "nbconvert_exporter": "python",
   "pygments_lexer": "ipython3",
   "version": "3.5.2"
  }
 },
 "nbformat": 4,
 "nbformat_minor": 0
}
