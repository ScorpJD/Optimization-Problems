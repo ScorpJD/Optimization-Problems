{
 "cells": [
  {
   "cell_type": "markdown",
   "metadata": {},
   "source": [
    "# Travelling salesman problem\n",
    "\n",
    "_The travelling salesman problem_ (TSP) asks the following question: \"Given a list of cities and the distances between each pair of cities, what is the shortest possible route that visits each city exactly once and returns to the origin city?\"\n",
    "\n",
    "This problem has its orgins in graph theory and is a very important problem in Combinatorial Optimization and Integer Programming.\n",
    "\n",
    "To begin with our implementation, lets start with an example.\n",
    "\n",
    "Consider the following set of cities: [A,B,C,D,E] with the distance between each city given by the weights on the graph bellow\n",
    "\n",
    "<img src=\"example.jpg\">"
   ]
  },
  {
   "cell_type": "code",
   "execution_count": 1,
   "metadata": {
    "collapsed": true
   },
   "outputs": [],
   "source": [
    "%matplotlib inline \n",
    "# this first line only to keep plot in line with this notebook\n",
    "\n",
    "import matplotlib.pyplot as plt\n",
    "plt.style.use(\"ggplot\") # plot style - more beautiful charts\n",
    "import numpy as np\n",
    "import pandas as pd"
   ]
  },
  {
   "cell_type": "code",
   "execution_count": 4,
   "metadata": {
    "collapsed": true
   },
   "outputs": [],
   "source": [
    "dist = np.array([[0,     2,     np.inf,12, 5     ],\n",
    "                 [2,     0,     4,     8,  np.inf],\n",
    "                 [np.inf,4,     0,     3,  3     ],\n",
    "                 [12,    8,     3,     0,  10    ],\n",
    "                 [5,     np.inf,3,     10, 0     ]])"
   ]
  },
  {
   "cell_type": "code",
   "execution_count": 6,
   "metadata": {
    "collapsed": false
   },
   "outputs": [
    {
     "data": {
      "text/plain": [
       "2.0"
      ]
     },
     "execution_count": 6,
     "metadata": {},
     "output_type": "execute_result"
    }
   ],
   "source": [
    "dist[0][1]"
   ]
  },
  {
   "cell_type": "code",
   "execution_count": null,
   "metadata": {
    "collapsed": true
   },
   "outputs": [],
   "source": []
  }
 ],
 "metadata": {
  "kernelspec": {
   "display_name": "Python 3",
   "language": "python",
   "name": "python3"
  },
  "language_info": {
   "codemirror_mode": {
    "name": "ipython",
    "version": 3
   },
   "file_extension": ".py",
   "mimetype": "text/x-python",
   "name": "python",
   "nbconvert_exporter": "python",
   "pygments_lexer": "ipython3",
   "version": "3.5.2"
  }
 },
 "nbformat": 4,
 "nbformat_minor": 0
}
